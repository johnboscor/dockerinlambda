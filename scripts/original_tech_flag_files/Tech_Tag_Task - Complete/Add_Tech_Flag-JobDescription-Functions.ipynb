{
 "cells": [
  {
   "cell_type": "markdown",
   "metadata": {},
   "source": [
    "# ‘Inclusive Job Ads project’ - Tech/Non-tech tagging\n",
    "Author: Shravankumar Hiregoudar"
   ]
  },
  {
   "cell_type": "markdown",
   "metadata": {},
   "source": [
    "## Import the libraries"
   ]
  },
  {
   "cell_type": "code",
   "execution_count": 4,
   "metadata": {},
   "outputs": [],
   "source": [
    "import pandas as pd\n",
    "import os\n",
    "import numpy as np\n",
    "import itertools\n",
    "import re\n",
    "import matplotlib.pyplot as plt\n",
    "import nltk\n",
    "from nltk.corpus import stopwords\n",
    "%matplotlib inline"
   ]
  },
  {
   "cell_type": "markdown",
   "metadata": {},
   "source": [
    "## Import the technical keywords list and job excel file"
   ]
  },
  {
   "cell_type": "code",
   "execution_count": 14,
   "metadata": {},
   "outputs": [],
   "source": [
    "job_ads = pd.read_excel('jobs_ads_with_Gender_Tag_tech_flag_03172022 - Validation.xlsx')\n",
    "tech_words = pd.read_excel('onlyTechWords.xlsx').dropna()\n",
    "tech_words_list = tech_words['Words'].tolist()"
   ]
  },
  {
   "cell_type": "markdown",
   "metadata": {
    "tags": []
   },
   "source": [
    "## Creating the techincal word list"
   ]
  },
  {
   "cell_type": "code",
   "execution_count": 44,
   "metadata": {},
   "outputs": [],
   "source": [
    "def getAllKeywords(techTagOp):\n",
    "    \"\"\"\n",
    "        :getAllKeywords: Get all the keywords from technical/non-technical job description.\n",
    "\n",
    "        :param techTagOp: The input of the funcation is dataframe with just tech or non-tech jobs\n",
    "        :type techTagOp: pandas.core.frame.DataFrame\n",
    "\n",
    "        :returns: Set of unique keywords excluding special characters, stopwords and ignoring case sensitive.\n",
    "    \"\"\"\n",
    "        \n",
    "    # Tokenize\n",
    "    techTagTokens = [sub.split() for sub in set(techTagOp['Text Description'].fillna(\"\"))]\n",
    "    # convert list of list to list\n",
    "    techTagUnqList = set(list(itertools.chain(*techTagTokens)))\n",
    "    # Remove special characters\n",
    "    techTagUnqListSpl = set([re.sub('[^a-zA-Z0-9]+', '', _) for _ in techTagUnqList])\n",
    "    # Remove stop words\n",
    "    techTagUnqListSplStop = [word for word in techTagUnqListSpl if word not in stopwords.words('english')]\n",
    "    # case insensitive\n",
    "    techTagUnqListSplStopCase = set({v.casefold(): v for v in techTagUnqListSplStop}.values())\n",
    "    # Non-integers only\n",
    "    techTagUnq = set(sorted([item for item in techTagUnqListSplStopCase if not item.isdigit()]))\n",
    "    \n",
    "    return (techTagUnq)"
   ]
  },
  {
   "cell_type": "code",
   "execution_count": 41,
   "metadata": {},
   "outputs": [],
   "source": [
    "opinion = job_ads.groupby('Tech Flag - Your Opinion')\n",
    "\n",
    "techOp = opinion.get_group('Tech')             # The actual tech roles ('Tech Flag - Your Opinion')\n",
    "ntechOp = opinion.get_group('Non-Tech')        # The actual non-tech roles ('Tech Flag - Your Opinion') "
   ]
  },
  {
   "cell_type": "markdown",
   "metadata": {},
   "source": [
    "##### Get all the keywords from technical/non-technical job description"
   ]
  },
  {
   "cell_type": "code",
   "execution_count": 42,
   "metadata": {},
   "outputs": [],
   "source": [
    "techUnq = getAllKeywords(techOp)\n",
    "ntechUnq = getAllKeywords(ntechOp)"
   ]
  },
  {
   "cell_type": "code",
   "execution_count": 45,
   "metadata": {},
   "outputs": [
    {
     "name": "stdout",
     "output_type": "stream",
     "text": [
      "2153 667 1123\n"
     ]
    }
   ],
   "source": [
    "onlyTech = sorted(techUnq - ntechUnq)      # The words which are only present in technical job description\n",
    "onlynTech = sorted(ntechUnq - techUnq)     # The words which are only present in non-technical job description\n",
    "both = sorted(techUnq & ntechUnq)          # The words which are common in both\n",
    "print(len(onlyTech), len(onlynTech), len(both))"
   ]
  },
  {
   "cell_type": "markdown",
   "metadata": {
    "tags": []
   },
   "source": [
    "## Compare and flag"
   ]
  },
  {
   "cell_type": "code",
   "execution_count": 46,
   "metadata": {},
   "outputs": [],
   "source": [
    "# Convert long string as list of strings\n",
    "def stringToList(string):\n",
    "    if not pd.isnull(string):\n",
    "        listRes = list(string.split(\" \"))\n",
    "        return [re.sub('[^a-zA-Z0-9]+', '', _) for _ in listRes]\n",
    "    else:\n",
    "        return \" \""
   ]
  },
  {
   "cell_type": "code",
   "execution_count": 51,
   "metadata": {},
   "outputs": [],
   "source": [
    "# Upon looping, The mappedTokens will contain list of sets, where len(list) = len(total jobs)\n",
    "# Example: [ set(),{'ARM','Agile','Agilebased'},......... ] \n",
    "# implies the first job ad contains zero tech words, the second job ad contains 'ARM','Agile','Agilebased' technical words..\n",
    "\n",
    "def mapTokens(job_ads_attribute):\n",
    "    \"\"\"\n",
    "        :mapTokens: Get all the keywords from technical/non-technical job description. The input of the funcation is dataframe with just tech or non-tech jobs\n",
    "\n",
    "        :param job_ads_attribute: 'Text Description' or 'Job Order: External Job Title'\n",
    "        :type job_ads_attribute: pandas.core.series.Series\n",
    "\n",
    "        :returns: List of words in 'tech_words_list' are mapped with 'Text Description' or 'Job Order: External Job Title'\n",
    "    \"\"\"\n",
    "    mappedTokens = [] \n",
    "    for i, role in enumerate (job_ads_attribute):\n",
    "        mappedTokens.append(set(stringToList(job_ads_attribute[i])) & set(tech_words_list))\n",
    "    return mappedTokens"
   ]
  },
  {
   "cell_type": "code",
   "execution_count": 52,
   "metadata": {
    "tags": []
   },
   "outputs": [],
   "source": [
    "# What words in 'tech_words_list' are mapped with 'Text Description'\n",
    "mappedTokensText = mapTokens(job_ads['Text Description'])\n",
    "\n",
    "# What words in 'tech_words_list' are mapped with 'Job title'\n",
    "mappedTokensTitle = mapTokens(job_ads['Job Order: External Job Title'])"
   ]
  },
  {
   "cell_type": "code",
   "execution_count": 53,
   "metadata": {},
   "outputs": [],
   "source": [
    "def tech_tag(mappedTokensText, mappedTokensTitle):\n",
    "    \"\"\"\n",
    "        :tech_tag: Tag the tech and non-tech based on the 'Text Description' or 'Job Order: External Job Title'\n",
    "\n",
    "        :param mappedTokensText: List of words in 'tech_words_list' are mapped with 'Text Description'\n",
    "        :type mappedTokensText: list\n",
    "        \n",
    "        :param mappedTokensTitle: List of words in 'tech_words_list' are mapped with 'Job Order: External Job Title'\n",
    "        :type mappedTokensTitle: list\n",
    "\n",
    "        :returns: job_ads dataframe with additional column 'Tech_Flag'\n",
    "    \"\"\"\n",
    "    # The dummy job descriptions/ templates have this sentence in common\n",
    "    dummyJD = 'Avoid using a laundry list of technologies and/or skills'\n",
    "\n",
    "    for i in range(len(mappedTokensText)):\n",
    "        # if the job 'Text Description' is empty or dummy -- Tag it based on the Job Title ; else use 'Text Description' to tag tech and non-tech.\n",
    "        if not pd.isnull(job_ads['Text Description'][i]) and dummyJD not in job_ads['Text Description'][i]:\n",
    "            # If we have mapped tokens between 'Text Description' and tech_words_list -> Tag 'Tech' else 'Non-Tech'\n",
    "            if len(mappedTokensText[i]):\n",
    "                job_ads.at[i,'Tech_Flag'] = 'Tech'\n",
    "            else:\n",
    "                job_ads.at[i,'Tech_Flag'] = 'Non-Tech'\n",
    "        else:\n",
    "            if len(mappedTokensTitle[i]):\n",
    "                job_ads.at[i,'Tech_Flag'] = 'Tech'\n",
    "            else:\n",
    "                job_ads.at[i,'Tech_Flag'] = 'Non-Tech'\n",
    "    \n",
    "    return job_ads"
   ]
  },
  {
   "cell_type": "code",
   "execution_count": 54,
   "metadata": {},
   "outputs": [],
   "source": [
    "job_ads = tech_tag(mappedTokensText, mappedTokensTitle)"
   ]
  },
  {
   "cell_type": "markdown",
   "metadata": {},
   "source": [
    "## Analyze accuracy - Validation (Additional)"
   ]
  },
  {
   "cell_type": "code",
   "execution_count": 56,
   "metadata": {
    "tags": []
   },
   "outputs": [
    {
     "name": "stdout",
     "output_type": "stream",
     "text": [
      "gochha -> 133 Missed -> 8\n"
     ]
    },
    {
     "data": {
      "image/png": "[encoded data removed]",
      "text/plain": [
       "<Figure size 504x720 with 1 Axes>"
      ]
     },
     "metadata": {},
     "output_type": "display_data"
    },
    {
     "data": {
      "text/html": [
       "<div>\n",
       "<style scoped>\n",
       "    .dataframe tbody tr th:only-of-type {\n",
       "        vertical-align: middle;\n",
       "    }\n",
       "\n",
       "    .dataframe tbody tr th {\n",
       "        vertical-align: top;\n",
       "    }\n",
       "\n",
       "    .dataframe thead th {\n",
       "        text-align: right;\n",
       "    }\n",
       "</style>\n",
       "<table border=\"1\" class=\"dataframe\">\n",
       "  <thead>\n",
       "    <tr style=\"text-align: right;\">\n",
       "      <th></th>\n",
       "      <th>Row Num</th>\n",
       "      <th>Role</th>\n",
       "      <th>Misclassified as</th>\n",
       "      <th>Reason</th>\n",
       "    </tr>\n",
       "  </thead>\n",
       "  <tbody>\n",
       "    <tr>\n",
       "      <th>0</th>\n",
       "      <td>4</td>\n",
       "      <td>Build - US</td>\n",
       "      <td>Non-Tech</td>\n",
       "      <td>Dummy Job Description + Generic Title</td>\n",
       "    </tr>\n",
       "    <tr>\n",
       "      <th>1</th>\n",
       "      <td>10</td>\n",
       "      <td>CLT Versa Placeholder</td>\n",
       "      <td>Non-Tech</td>\n",
       "      <td>Dummy Job Description + Generic Title</td>\n",
       "    </tr>\n",
       "    <tr>\n",
       "      <th>2</th>\n",
       "      <td>45</td>\n",
       "      <td>Build - US</td>\n",
       "      <td>Non-Tech</td>\n",
       "      <td>Dummy Job Description + Generic Title</td>\n",
       "    </tr>\n",
       "    <tr>\n",
       "      <th>3</th>\n",
       "      <td>1683</td>\n",
       "      <td>Build - Australia</td>\n",
       "      <td>Non-Tech</td>\n",
       "      <td>Dummy Job Description + Generic Title</td>\n",
       "    </tr>\n",
       "    <tr>\n",
       "      <th>4</th>\n",
       "      <td>1710</td>\n",
       "      <td>Organizational Effectiveness Consultant</td>\n",
       "      <td>Tech</td>\n",
       "      <td>Tech words in JD {'Tableau', 'PowerBI', 'Azure'}</td>\n",
       "    </tr>\n",
       "    <tr>\n",
       "      <th>5</th>\n",
       "      <td>1715</td>\n",
       "      <td>Senior Consultant</td>\n",
       "      <td>Non-Tech</td>\n",
       "      <td>Dummy Job Description + Generic Title</td>\n",
       "    </tr>\n",
       "    <tr>\n",
       "      <th>6</th>\n",
       "      <td>1735</td>\n",
       "      <td>Technology Delivery Owner</td>\n",
       "      <td>Non-Tech</td>\n",
       "      <td>Dummy Job Description + Generic Title</td>\n",
       "    </tr>\n",
       "    <tr>\n",
       "      <th>7</th>\n",
       "      <td>1757</td>\n",
       "      <td>Solution Owner - Business Advisory</td>\n",
       "      <td>Tech</td>\n",
       "      <td>Tech words in JD {'Solution', 'Agile'}</td>\n",
       "    </tr>\n",
       "  </tbody>\n",
       "</table>\n",
       "</div>"
      ],
      "text/plain": [
       "   Row Num                                     Role Misclassified as  \\\n",
       "0        4                               Build - US         Non-Tech   \n",
       "1       10                    CLT Versa Placeholder         Non-Tech   \n",
       "2       45                               Build - US         Non-Tech   \n",
       "3     1683                        Build - Australia         Non-Tech   \n",
       "4     1710  Organizational Effectiveness Consultant             Tech   \n",
       "5     1715                        Senior Consultant         Non-Tech   \n",
       "6     1735                Technology Delivery Owner         Non-Tech   \n",
       "7     1757       Solution Owner - Business Advisory             Tech   \n",
       "\n",
       "                                             Reason  \n",
       "0             Dummy Job Description + Generic Title  \n",
       "1             Dummy Job Description + Generic Title  \n",
       "2             Dummy Job Description + Generic Title  \n",
       "3             Dummy Job Description + Generic Title  \n",
       "4  Tech words in JD {'Tableau', 'PowerBI', 'Azure'}  \n",
       "5             Dummy Job Description + Generic Title  \n",
       "6             Dummy Job Description + Generic Title  \n",
       "7            Tech words in JD {'Solution', 'Agile'}  "
      ]
     },
     "execution_count": 56,
     "metadata": {},
     "output_type": "execute_result"
    }
   ],
   "source": [
    "#keep a count of correct and misclassification\n",
    "right,wrong = 0,0\n",
    "\n",
    "#Their are dummy job description in the dataset which has this line in common\n",
    "dummyJD = 'Avoid using a laundry list of technologies and/or skills'\n",
    "\n",
    "#List of items which will capture misclassified information\n",
    "reason, role, mis, rowno = [], [], [], []\n",
    "\n",
    "\n",
    "for i in range(len(job_ads['Tech_Flag'])):\n",
    "    # Consider tech and non-tech only for comparision as some of the 'Tech Flag - Your Opinion' are empty\n",
    "    if job_ads['Tech Flag - Your Opinion'][i] in ['Tech','Non-Tech'] :\n",
    "        if job_ads['Tech_Flag'][i] == job_ads['Tech Flag - Your Opinion'][i]:\n",
    "            right +=1\n",
    "            pass\n",
    "        else:\n",
    "            wrong +=1\n",
    "            \n",
    "            # These jobs are misclassified based on their job descr. \n",
    "            # so, we will capture it's row num, role name, algorithm misclassified tech/non-tech and reason for misclassification\n",
    "            rowno.append(i)\n",
    "            role.append(job_ads['Job Order: External Job Title'][i])\n",
    "            mis.append(job_ads['Tech_Flag'][i])\n",
    "            \n",
    "            # If the job descr. contains 'dummyJD' that means it's just a template/placeholder and not a real job descr.\n",
    "            # capture the reasoning for misclassification\n",
    "            if not pd.isnull(job_ads['Text Description'][i]):\n",
    "                if dummyJD in job_ads['Text Description'][i]:\n",
    "                    reason.append(\"Dummy Job Description + Generic Title\")\n",
    "                else:\n",
    "                    reason.append(\"Tech words in JD \"+str(mappedTokensText[i]))\n",
    "            else:\n",
    "                reason.append(\"Empty JD\")\n",
    "\n",
    "#Create a DF of misclassified jobs (includes row num, role name, algorithm misclassified tech/non-tech and reason for misclassification)\n",
    "wrongDF = pd.DataFrame({'Row Num':rowno, 'Role':role, 'Misclassified as':mis, 'Reason':reason})\n",
    "\n",
    "#Plot the correct and misclassified\n",
    "print(\"gochha ->\", right, \"Missed ->\", wrong)\n",
    "fig = plt.figure(figsize=(7,10))\n",
    "plt.pie([right,wrong] , labels = [\"Goccha\", \"Missed\"], autopct='%1.2f%%')\n",
    "plt.legend()\n",
    "plt.show() \n",
    "wrongDF"
   ]
  }
 ],
 "metadata": {
  "kernelspec": {
   "display_name": "Python 3 (ipykernel)",
   "language": "python",
   "name": "python3"
  },
  "language_info": {
   "codemirror_mode": {
    "name": "ipython",
    "version": 3
   },
   "file_extension": ".py",
   "mimetype": "text/x-python",
   "name": "python",
   "nbconvert_exporter": "python",
   "pygments_lexer": "ipython3",
   "version": "3.10.2"
  }
 },
 "nbformat": 4,
 "nbformat_minor": 4
}
