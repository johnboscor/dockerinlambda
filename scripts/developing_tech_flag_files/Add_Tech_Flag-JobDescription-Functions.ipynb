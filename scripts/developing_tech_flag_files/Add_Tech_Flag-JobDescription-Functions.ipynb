{
 "cells": [
  {
   "cell_type": "markdown",
   "metadata": {},
   "source": [
    "# ‘Inclusive Job Ads project’ - Tech/Non-tech tagging\n",
    "Author: Shravankumar Hiregoudar"
   ]
  },
  {
   "cell_type": "markdown",
   "metadata": {},
   "source": [
    "## Import the libraries"
   ]
  },
  {
   "cell_type": "code",
   "execution_count": 1,
   "metadata": {},
   "outputs": [],
   "source": [
    "import pandas as pd\n",
    "import itertools\n",
    "import re\n",
    "from nltk.corpus import stopwords\n",
    "%matplotlib inline"
   ]
  },
  {
   "cell_type": "markdown",
   "metadata": {},
   "source": [
    "## Import the technical keywords list and job excel file"
   ]
  },
  {
   "cell_type": "markdown",
   "metadata": {
    "tags": []
   },
   "source": [
    "## Creating the techincal word list"
   ]
  },
  {
   "cell_type": "code",
   "execution_count": 2,
   "metadata": {},
   "outputs": [],
   "source": [
    "def getAllKeywords(techTagOp):\n",
    "    \"\"\"\n",
    "        :getAllKeywords: Get all the keywords from technical/non-technical job description.\n",
    "\n",
    "        :param techTagOp: The input of the funcation is dataframe with just tech or non-tech jobs\n",
    "        :type techTagOp: pandas.core.frame.DataFrame\n",
    "\n",
    "        :returns: Set of unique keywords excluding special characters, stopwords and ignoring case sensitive.\n",
    "    \"\"\"\n",
    "        \n",
    "    # Tokenize\n",
    "    techTagTokens = [sub.split() for sub in set(techTagOp['Text Description'].fillna(\"\"))]\n",
    "    # convert list of list to list\n",
    "    techTagUnqList = set(list(itertools.chain(*techTagTokens)))\n",
    "    # Remove special characters\n",
    "    techTagUnqListSpl = set([re.sub('[^a-zA-Z0-9]+', '', _) for _ in techTagUnqList])\n",
    "    # Remove stop words\n",
    "    techTagUnqListSplStop = [word for word in techTagUnqListSpl if word not in stopwords.words('english')]\n",
    "    # case insensitive\n",
    "    techTagUnqListSplStopCase = set({v.casefold(): v for v in techTagUnqListSplStop}.values())\n",
    "    # Non-integers only\n",
    "    techTagUnq = set(sorted([item for item in techTagUnqListSplStopCase if not item.isdigit()]))\n",
    "    \n",
    "    return (techTagUnq)"
   ]
  },
  {
   "cell_type": "markdown",
   "metadata": {
    "tags": []
   },
   "source": [
    "## Compare and flag"
   ]
  },
  {
   "cell_type": "code",
   "execution_count": 3,
   "metadata": {},
   "outputs": [],
   "source": [
    "# Convert long string as list of strings\n",
    "def stringToList(string):\n",
    "    if not pd.isnull(string):\n",
    "        listRes = list(string.split(\" \"))\n",
    "        return [re.sub('[^a-zA-Z0-9]+', '', _) for _ in listRes]\n",
    "    else:\n",
    "        return \" \""
   ]
  },
  {
   "cell_type": "code",
   "execution_count": 4,
   "metadata": {},
   "outputs": [],
   "source": [
    "# Upon looping, The mappedTokens will contain list of sets, where len(list) = len(total jobs)\n",
    "# Example: [ set(),{'ARM','Agile','Agilebased'},......... ] \n",
    "# implies the first job ad contains zero tech words, the second job ad contains 'ARM','Agile','Agilebased' technical words..\n",
    "\n",
    "def mapTokens(job_ads_attribute, tech_words_list):\n",
    "    \"\"\"\n",
    "        :mapTokens: Get all the keywords from technical/non-technical job description. The input of the funcation is dataframe with just tech or non-tech jobs\n",
    "\n",
    "        :param job_ads_attribute: 'Text Description' or 'Job Order: External Job Title'\n",
    "        :type job_ads_attribute: pandas.core.series.Series\n",
    "\n",
    "        :returns: List of words in 'tech_words_list' are mapped with 'Text Description' or 'Job Order: External Job Title'\n",
    "    \"\"\"\n",
    "    mappedTokens = [] \n",
    "    for i, role in enumerate (job_ads_attribute):\n",
    "        mappedTokens.append(set(stringToList(job_ads_attribute[i])) & set(tech_words_list))\n",
    "    return mappedTokens"
   ]
  },
  {
   "cell_type": "code",
   "execution_count": 5,
   "metadata": {},
   "outputs": [],
   "source": [
    "def tech_tag(inputFile, jobDescriptionCol, mappedTokensText, mappedTokensTitle):\n",
    "    \"\"\"\n",
    "        :tech_tag: Tag the tech and non-tech based on the 'Text Description' or 'Job Order: External Job Title'\n",
    "\n",
    "        :param mappedTokensText: List of words in 'tech_words_list' are mapped with 'Text Description'\n",
    "        :type mappedTokensText: list\n",
    "        \n",
    "        :param mappedTokensTitle: List of words in 'tech_words_list' are mapped with 'Job Order: External Job Title'\n",
    "        :type mappedTokensTitle: list\n",
    "\n",
    "        :returns: job_ads dataframe with additional column 'Tech_Flag'\n",
    "    \"\"\"\n",
    "    # The dummy job descriptions/ templates have this sentence in common\n",
    "    dummyJD = 'Avoid using a laundry list of technologies and/or skills'\n",
    "\n",
    "    job_ads = pd.read_csv(inputFile)\n",
    "\n",
    "    for i in range(len(job_ads)):\n",
    "        # if the job 'Text Description' is empty or dummy -- Tag it based on the Job Title ; else use 'Text Description' to tag tech and non-tech.\n",
    "        if not pd.isnull(job_ads[jobDescriptionCol][i]) and dummyJD not in job_ads[jobDescriptionCol][i]:\n",
    "            # If we have mapped tokens between 'Text Description' and tech_words_list -> Tag 'Tech' else 'Non-Tech'\n",
    "            if len(mappedTokensText[i]):\n",
    "                job_ads.at[i,'Tech_Flag'] = 'Tech'\n",
    "            else:\n",
    "                job_ads.at[i,'Tech_Flag'] = 'Non-Tech'\n",
    "        else:\n",
    "            if len(mappedTokensTitle[i]):\n",
    "                job_ads.at[i,'Tech_Flag'] = 'Tech'\n",
    "            else:\n",
    "                job_ads.at[i,'Tech_Flag'] = 'Non-Tech'\n",
    "    \n",
    "    return job_ads"
   ]
  },
  {
   "cell_type": "markdown",
   "metadata": {},
   "source": [
    "# Consolidate everything"
   ]
  },
  {
   "cell_type": "code",
   "execution_count": 6,
   "metadata": {},
   "outputs": [],
   "source": [
    "def create_tech_flags(input_file, job_title_col_name, job_description_col):\n",
    "    job_ads = pd.read_excel('technical_flag_reference_data.xlsx')\n",
    "    tech_words = pd.read_excel('technical_flag_reference_tech_words.xlsx').dropna()\n",
    "    tech_words_list = tech_words['Words'].tolist()\n",
    "\n",
    "    # What words in 'tech_words_list' are mapped with 'Text Description'\n",
    "    input_data = pd.read_csv(input_file)\n",
    "    mappedTokenText = mapTokens(input_data[job_description_col], tech_words_list)\n",
    "    # mappedTokensText = mapTokens(job_ads['Text Description'])\n",
    "\n",
    "    # What words in 'tech_words_list' are mapped with 'Job title'\n",
    "    mappedTokenTitle = mapTokens(input_data[job_title_col_name], tech_words_list)\n",
    "    # mappedTokensTitle = mapTokens(job_ads['Job Order: External Job Title'])\n",
    "\n",
    "    output_data = tech_tag(input_file, job_description_col, mappedTokenText, mappedTokenTitle)\n",
    "\n",
    "    return output_data\n",
    "    "
   ]
  },
  {
   "cell_type": "code",
   "execution_count": 7,
   "metadata": {},
   "outputs": [],
   "source": [
    "input_file_dir = 'sample_job_descriptions.csv'\n",
    "job_title_col_name = 'Job Title'\n",
    "job_description_col = 'Job Description'\n",
    "result = create_tech_flags(input_file_dir, job_title_col_name, job_description_col)"
   ]
  },
  {
   "cell_type": "code",
   "execution_count": 8,
   "metadata": {},
   "outputs": [
    {
     "data": {
      "text/plain": [
       "Tech        173\n",
       "Non-Tech     26\n",
       "Name: Tech_Flag, dtype: int64"
      ]
     },
     "execution_count": 8,
     "metadata": {},
     "output_type": "execute_result"
    }
   ],
   "source": [
    "result['Tech_Flag'].value_counts()"
   ]
  },
  {
   "cell_type": "code",
   "execution_count": 9,
   "metadata": {},
   "outputs": [
    {
     "data": {
      "text/plain": [
       "Tech_Flag  Job Title                                 \n",
       "Non-Tech   2018 - NGI Leader                             1\n",
       "           2018 - Sales Executive                        1\n",
       "           2018 Life Sciences Engagement Manager         1\n",
       "           2018 Project Manager - Delivery Leadership    1\n",
       "           2019 Analyst - August                         1\n",
       "                                                        ..\n",
       "Tech       Bilingual IT Support Analyst                  1\n",
       "           Billing Analyst                               1\n",
       "           Billing Supervisor                            1\n",
       "           Boeing - BA (Mike)                            1\n",
       "           Boeing - BI Dev (Marci Farrell)               1\n",
       "Name: Job Title, Length: 199, dtype: int64"
      ]
     },
     "execution_count": 9,
     "metadata": {},
     "output_type": "execute_result"
    }
   ],
   "source": [
    "result.groupby(['Tech_Flag', 'Job Title'])['Job Title'].count()"
   ]
  },
  {
   "cell_type": "code",
   "execution_count": null,
   "metadata": {},
   "outputs": [],
   "source": []
  }
 ],
 "metadata": {
  "kernelspec": {
   "display_name": "Python 3.9.12 ('job_ads')",
   "language": "python",
   "name": "python3"
  },
  "language_info": {
   "codemirror_mode": {
    "name": "ipython",
    "version": 3
   },
   "file_extension": ".py",
   "mimetype": "text/x-python",
   "name": "python",
   "nbconvert_exporter": "python",
   "pygments_lexer": "ipython3",
   "version": "3.9.12"
  },
  "vscode": {
   "interpreter": {
    "hash": "905fc78f2a998d8da7123b6b0aca69e1729ecfbbd35d29b2de03016054c0b991"
   }
  }
 },
 "nbformat": 4,
 "nbformat_minor": 4
}
